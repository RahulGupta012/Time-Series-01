{
 "cells": [
  {
   "cell_type": "markdown",
   "id": "b0e3bcb0-473b-4574-82a2-b29b2d118ba0",
   "metadata": {
    "tags": []
   },
   "source": [
    "<div style=\"background-color: #d948ad; padding: 10px; border-radius: 10px; text-align: center;\">\n",
    "  <h1>Time Series 01</h1>\n",
    "</div>\n"
   ]
  },
  {
   "cell_type": "markdown",
   "id": "8b4a547f-6e40-4505-b322-d4c040eae6c2",
   "metadata": {},
   "source": [
    "# Q1. What is a time series, and what are some common applications of time series analysis?"
   ]
  },
  {
   "cell_type": "markdown",
   "id": "ea99c023-4eb0-468b-bf20-dd7fc1166118",
   "metadata": {},
   "source": [
    "A time series is a seris of arrangment of the datapoints over the time scale. This scale should be year, month, day, hour, minute and second. We call these time scale as Time stamps.By the help of the Time series we show the stock prices, weather conditions, economic indicators, or any other quantifiable variable that changes over time.The aim of time series is to understand the various insights of the data with respect the time stamps.\n",
    "\n",
    "There are various application of time series in our real world industry which are showing above ;\n",
    "\n",
    "**Finance :** There is a wide role of time series in the realm of finance as in stock trend prediction, varrious economic prediction and their mangement. \n",
    "\n",
    "**Medical :** In the field of medical, time serious also a usefull techniques as it predict the deases of a petiont's symtoms over the time.\n",
    "\n",
    "**Wether :** In the wether forcast, time series plays a crucial role.\n",
    "\n",
    "**Social :** In the social realm there are also the uses of the time series as it analysing the crime reports and population reports. "
   ]
  },
  {
   "cell_type": "markdown",
   "id": "b45c615a-5fc6-4152-b047-90528c9f2340",
   "metadata": {},
   "source": [
    "# Q2. What are some common time series patterns, and how can they be identified and interpreted?"
   ]
  },
  {
   "cell_type": "markdown",
   "id": "fa32c005-7ba2-4130-80a8-4705a165a285",
   "metadata": {},
   "source": [
    "The time series has made up with some components , or when we see the visulazation part of a time series we find some pattern in it. These patterns has some meaning. Which is illusrated ;\n",
    "These are four in number ;\n",
    "1. Trend\n",
    "2. Season\n",
    "3. Cycle\n",
    "4. Noise\n",
    "\n",
    "One by one , we trying to understand these components of the time series ;\n",
    "\n",
    "   **Trend :** Trend tells us the direction or flow of the datapoints. It has three varienties ; Uptrend , Downtrend and Flat. When the data is in sucsessive mood the uptrend will happen. And when the data is deceresing in respect of his quantity the downtrend will come . And if the data has no significant change , wether in up or down then it will be the Flat Trend.\n",
    "   \n",
    "   **Season :** Season is basically the frequently repation of the trend in respect of various time stamps as day,week,months,years ..etc. The choice of the stamps may be subjective as the conditions of situations. For example the sale of icecreames in summers. \n",
    "   \n",
    "   **Cycle :** Cycle is similar to the season however it is used for a long time period. as in a cycle there should be a plenty of seasons and the trends. These are becoming over the time period as the The election , which are orginized in every five year and the Budget which take place in every year.\n",
    "   \n",
    "   **Noise :** Noise is nothing but an outliers, which means a sudden significant change in the trends caused by some external factors..ie..Randomness ,Residual and white noise.\n",
    "   Foe Example a speech of a famous personality can rapidly change the trend of the stock price."
   ]
  },
  {
   "cell_type": "markdown",
   "id": "111ed982-7349-4f46-969b-f54eccc7f524",
   "metadata": {},
   "source": [
    "# Q3. How can time series data be preprocessed before applying analysis techniques?"
   ]
  },
  {
   "cell_type": "markdown",
   "id": "33dc4ec5-6781-4cd4-a1a2-d201bab36a2f",
   "metadata": {},
   "source": [
    "**Data Ingesiton :** \n",
    "\n",
    "- In data ingesiton, we are loading the data from the source \n",
    "- checking whether the time series are in the time series data type or not, if it is not we should change the data type. \n",
    "- And after that making that time series as index of the dataframe because there are various advantages to treat the time series as index :\n",
    "  - we can easily retrive the data\n",
    "  - visulization is also simple\n",
    "  - those lib has been degine in such a way it required date column as a index(scipy statsmodel)\n",
    "\n",
    "**Eda of the data :** \n",
    "\n",
    "- Now we need to proceed some exploratry data analysis in our dataset as first show some statical info and some visulizing graphs to take the feel of the data. \n",
    "\n",
    "**Processing of the data :**\n",
    "\n",
    "- And after completing this part we should go for stationary test whether the data is stationary or non-stationary. We can find out this by a simple Augmented Dickey-Fuller test. If the data is non-stationary we should change it to stationary by differencing mehtod.\n",
    "- Plot the autocorrelation function (ACF) and partial autocorrelation function (PACF) to identify the order of the ARIMA model. \n",
    "- Now we should check for outliers by using box plot or some other techniques and treated them.\n",
    "\n",
    "**Model Building :**\n",
    "\n",
    "- We can use ARIMA, SARIMA , SARIMAX according to our dataset to train the model and after that fit this model for forcasting.\n",
    "- We need to decide the value of p and q for AR and MA respectivly. For deciding such value we are used PACF and ACF respectivly.\n",
    "- p and q should be 0,1,2,3...n\n",
    "\n",
    "**Model evalution :** \n",
    "\n",
    "- After completing all the steps now it's time to evalute the model perfoemance for evaluting the performance of model we can use sevral metrics like . RMSE , MSE"
   ]
  },
  {
   "cell_type": "markdown",
   "id": "5bbfca9b-178f-46a2-9fae-30786d91b0d7",
   "metadata": {},
   "source": [
    "# Q4. How can time series forecasting be used in business decision-making, and what are some common challenges and limitations?"
   ]
  },
  {
   "cell_type": "markdown",
   "id": "eecd9f1d-167d-4dc7-ac71-1b973ca70ca1",
   "metadata": {},
   "source": [
    "Time series play a crucial role for business problems as it will help in decision making and it can forcast the feature related to the business problems as future trends, patterns, and potential outcomes. However while doing such things we have to face some challenegs which are illusrated below ;\n",
    "\n",
    "**Demand Prediction :** For product or service based companies, time series proved very helpfull as it will help for prediction the demand of good and service, producing the such material according the demand is a primary aim of such companies.\n",
    "\n",
    "**Supply Chain Management:** Forecasting assists in optimizing supply chain operations by predicting future demand, identifying potential disruptions, and facilitating efficient logistics planning.\n",
    "\n",
    "**Marketing and Sales Strategy:** Businesses use time series forecasting to predict sales trends, analyze marketing campaign effectiveness, and optimize pricing strategies.\n",
    "\n",
    "`LIMATATIONS`\n",
    "\n",
    "**Data Quality and Availability:** Incomplete or inaccurate data can lead to suboptimal forecasts. Lack of historical data or sudden changes in data patterns can also pose challenges.\n",
    "\n",
    "**Complexity of Time Series Patterns:** Time series data often exhibits complex patterns, including seasonality, trends, and irregularities. Capturing and modeling these patterns accurately can be challenging."
   ]
  },
  {
   "cell_type": "markdown",
   "id": "e1a86797-3ff4-445e-a38c-5594d4751ceb",
   "metadata": {},
   "source": [
    "# Q5. What is ARIMA modelling, and how can it be used to forecast time series data?"
   ]
  },
  {
   "cell_type": "markdown",
   "id": "40e17acd-f7cb-43ed-93be-c77a59cb2f36",
   "metadata": {},
   "source": [
    "ARIMA is reffered to 'Auto Regression Integrated Moving Avarage' , which is composed with Auto Regression + Integrated + Moving Avarage (Model) . We illusrated each component on by one ;\n",
    "\n",
    "**Auto Regression (AR):** This component accounts for the relationship between the current observation and its past observations. There is a parameter of P = 0,1,2,3..n , this p parameter decide the number of past observation. It should be dicided by the PACF.\n",
    "\n",
    "**Integrated :** This component involves differencing the time series data to make it stationary, i.e., removing any trend or seasonality.The \"d\" parameter represents the order of differencing, indicating how many times the data needs to be differenced to achieve stationarity.\n",
    "\n",
    "**Moving Avrage (MA) :** This component accounts for the relationship between the current observation and a residual error from a moving average process applied to past observations.\n",
    "The \"q\" parameter represents the order of the moving average component, indicating how many past residuals are considered.We can detrmine the best q value for our MA by ACF.\n",
    "\n"
   ]
  },
  {
   "cell_type": "markdown",
   "id": "b2fc9268-5c06-40fd-abf7-ba978a6b8726",
   "metadata": {},
   "source": [
    "# Q6. How do Autocorrelation Function (ACF) and Partial Autocorrelation Function (PACF) plots help in identifying the order of ARIMA models?"
   ]
  },
  {
   "cell_type": "markdown",
   "id": "1499da54-c089-4bda-b74e-e6c3ce0000c8",
   "metadata": {},
   "source": [
    "`ACF -----> Auto + Correlation`\n",
    "\n",
    "Here auto means : Correlation itself in the feature.\n",
    "\n",
    "ACF is genrally used for mesure the correlation between time series and it's log values.\n",
    "- Corr(Yt, Y(t-1))\n",
    "\n",
    "It helps to determine the q value for moving avrage of the model.\n",
    "\n",
    "\n",
    "`PACF ------> Partial Auto Correlation Functtion`\n",
    "\n",
    "if we will removing the intermediate process amoung the Acf it will become PACF.\n",
    "\n",
    "- Yt ---> Y(t-1) ----> Y(t-2)\n",
    "\n",
    "It helps to determine the best p value for AR(Auto Regression)\n"
   ]
  },
  {
   "cell_type": "markdown",
   "id": "22b3901d-4f3e-469b-a46c-206cc92168ee",
   "metadata": {},
   "source": [
    "# Q7. What are the assumptions of ARIMA models, and how can they be tested for in practice?"
   ]
  },
  {
   "cell_type": "markdown",
   "id": "c2573bbf-2473-40f1-94d0-313995bb7120",
   "metadata": {},
   "source": [
    "There are some assumptions, which we should keep in mind , while using the ARIMA model as these are important for the good performance of the model :\n",
    "\n",
    "**Stationary :** When we use the ARIMA model than it should be our responsibility to check that wheather data is stationary or non- stationary . To check this we can take help the some stats test as Augmented Dickey-Fuller (ADF) . We can also detect it by visulazing the graph. The staionary data has constant varience and mean. If we find our data non-stationary then we need to transform it to stationary. Differencing is a technique which is used to tranform such data into stationary.\n",
    "\n",
    "**value of p and q :** The values of p and q having a significant role for AR and MA respectivly, which are the components of ARIMA. To determine the best value for k we can use the PACF and for the q value we use ACF. We can check the impact of these p and q by RMSE and MSE.\n",
    "\n",
    "**Outliers :** Outliers can put the bad impact on the performance of the model. We can detect the outliers by sevral techniques such as boxplot,stats."
   ]
  },
  {
   "cell_type": "markdown",
   "id": "30aba1e6-97d4-4dbf-b638-1a16f8cdab24",
   "metadata": {},
   "source": [
    "# Q8. Suppose you have monthly sales data for a retail store for the past three years. Which type of time series model would you recommend for forecasting future sales, and why?"
   ]
  },
  {
   "cell_type": "markdown",
   "id": "9b4e8bc7-1e07-4943-b654-a3c17c4a86d0",
   "metadata": {},
   "source": [
    "For monthly retail sales data exhibiting trends and seasonality, a Seasonal ARIMA (SARIMA) model is recommended due to its ability to capture both long-term trends and seasonal patterns.\n",
    "\n",
    "\n",
    "\n",
    "\n",
    "\n"
   ]
  },
  {
   "cell_type": "markdown",
   "id": "bc00cca6-f71e-4e34-b684-d02417acfae0",
   "metadata": {},
   "source": [
    "# Q9. What are some of the limitations of time series analysis? Provide an example of a scenario where the limitations of time series analysis may be particularly relevant."
   ]
  },
  {
   "cell_type": "markdown",
   "id": "f4966dae-375b-4d8e-b708-9088252abadd",
   "metadata": {},
   "source": [
    "There are some limations of time series ;\n",
    "\n",
    "- Many time series analysis techniques assume stationarity, meaning that statistical properties such as mean and variance remain constant over time. In real-world scenarios, however, many time series exhibit non-stationary behavior.\n",
    "\n",
    "- Outliers or extreme values can significantly impact the results of time series analysis, leading to skewed predictions or distorted patterns.\n",
    "\n",
    "- In some cases, there might be limited historical data available for analysis, making it difficult to build accurate and robust models, especially for long-term predictions.\n",
    "\n",
    "- Time series analysis can identify correlations and patterns, but it may not provide information about causality. Understanding the cause-and-effect relationships may require additional domain knowledge.\n",
    "\n",
    "**Example :** We are asuming that we are going with the time series analysis of a stock price. But a insder institution manuplate the market by spreading some news, related to that stock and because of that new a big down trend comes in the market suddenly. Which is beyond our analysis and not grasped by our models."
   ]
  },
  {
   "cell_type": "markdown",
   "id": "92125439-8b0b-4b19-9c92-9e734c424ad4",
   "metadata": {},
   "source": [
    "# Q10. Explain the difference between a stationary and non-stationary time series. How does the stationarity of a time series affect the choice of forecasting model?"
   ]
  },
  {
   "cell_type": "markdown",
   "id": "1f38d5ab-c61c-49b4-ad3d-d0a2b0971f0d",
   "metadata": {},
   "source": [
    "**Non- Stationary :** In non- stationary data the mean and varienece is not constant over the time series. The graph of such data has zik-zak type and had a trend ; up trend or down trend.\n",
    "\n",
    "**Stationary :** While in stationary data the mean and varinece of the data is constant over the time series. The graph of such data seems constant and has a flat trend usally.\n",
    "\n",
    "Stationary data is favourable for the models as it is constant over the time . If we find a data which is non-stationary, we need to tranform it in the stationary data, for making it compatible for the model. For making the non-stationary data to stationary we are using differencing technique."
   ]
  }
 ],
 "metadata": {
  "kernelspec": {
   "display_name": "Python 3 (ipykernel)",
   "language": "python",
   "name": "python3"
  },
  "language_info": {
   "codemirror_mode": {
    "name": "ipython",
    "version": 3
   },
   "file_extension": ".py",
   "mimetype": "text/x-python",
   "name": "python",
   "nbconvert_exporter": "python",
   "pygments_lexer": "ipython3",
   "version": "3.10.8"
  }
 },
 "nbformat": 4,
 "nbformat_minor": 5
}
